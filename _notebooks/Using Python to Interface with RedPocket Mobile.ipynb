{
 "cells": [
  {
   "cell_type": "markdown",
   "id": "71ab5d6c",
   "metadata": {},
   "source": [
    "RedPocket has been a great budget option for those who don't need unlimited data. The one piece missing was a better way to track data usage to understand how much of a hit that 2 minute 4K YouTube video really took on your 3GB monthly limit. So I built a quick python package to do it.\n",
    "\n",
    "The source code is located [here](https://github.com/ronnie-llamado/pyRedPocket). If there are any blaring issues or you feel the code is atrocious, please feel free to let me know. \n",
    "\n",
    "\n",
    "## Installation\n",
    "\n",
    "Install with `pip`:\n",
    "\n",
    "```python\n",
    "pip install pyredpocket\n",
    "```\n",
    "\n",
    "## Usage\n",
    "\n",
    "\n",
    "\n"
   ]
  },
  {
   "cell_type": "code",
   "execution_count": 8,
   "id": "3045dee8",
   "metadata": {},
   "outputs": [
    {
     "name": "stdout",
     "output_type": "stream",
     "text": [
      "LineDetails(phone_number='XXXXXXXXXX', voice_balance=-1, messaging_balance=-1, data_balance=2271, timestamp=1619899162.0668604, start_date=datetime.date(2021, 4, 2), end_date=datetime.date(2021, 5, 4), hash='XXXXXXXX')\n"
     ]
    }
   ],
   "source": [
    "from configparser import ConfigParser\n",
    "from pyredpocket import RedPocket\n",
    "\n",
    "# read in username/password from local conf file\n",
    "config = ConfigParser()\n",
    "config.read('conf/redpocket.conf')\n",
    "username = config.get('DEFAULT', 'username')\n",
    "password = config.get('DEFAULT', 'password')\n",
    "\n",
    "# create RedPocket object, pulls information on \n",
    "client = RedPocket(username=username, password=password)\n",
    "data = client.details[0]\n",
    "\n",
    "# mask personal details\n",
    "data.phone_number = 'XXXXXXXXXX'\n",
    "data.hash = 'XXXXXXXX'\n",
    "\n",
    "print(data)"
   ]
  },
  {
   "cell_type": "markdown",
   "id": "e63e6c36",
   "metadata": {},
   "source": [
    "## Future Applications\n",
    "\n",
    "If I don't switch away from RedPocket Mobile (looking likely for other reasons), there are a few more tools I'd like to build using this package. \n",
    "\n",
    "1. Jupyter dashboard to track data to explore if I can lower my monthly plan\n",
    "2. Email/text alerts when data dips below specific points (1GB, 0.5GB)\n",
    "3. Easily deployable application for users to pull data locally"
   ]
  }
 ],
 "metadata": {
  "kernelspec": {
   "display_name": "Python 3",
   "language": "python",
   "name": "python3"
  },
  "language_info": {
   "codemirror_mode": {
    "name": "ipython",
    "version": 3
   },
   "file_extension": ".py",
   "mimetype": "text/x-python",
   "name": "python",
   "nbconvert_exporter": "python",
   "pygments_lexer": "ipython3",
   "version": "3.9.4"
  }
 },
 "nbformat": 4,
 "nbformat_minor": 5
}
